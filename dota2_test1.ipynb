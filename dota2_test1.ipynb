{
  "cells": [
    {
      "metadata": {
        "_uuid": "8f2839f25d086af736a60e9eeb907d3b93b6e0e5",
        "_cell_guid": "b1076dfc-b9ad-4769-8c92-a6c4dae69d19",
        "trusted": true
      },
      "cell_type": "code",
      "source": "# This Python 3 environment comes with many helpful analytics libraries installed\n# It is defined by the kaggle/python docker image: https://github.com/kaggle/docker-python\n# For example, here's several helpful packages to load in \n\nimport numpy as np # linear algebra\nimport pandas as pd # data processing, CSV file I/O (e.g. pd.read_csv)\n\n# Input data files are available in the \"../input/\" directory.\n# For example, running this (by clicking run or pressing Shift+Enter) will list the files in the input directory\n\nimport os\nprint(os.listdir(\"../input\"))\n\n# Any results you write to the current directory are saved as output.",
      "execution_count": 2,
      "outputs": [
        {
          "output_type": "stream",
          "text": "['ability_upgrades.csv', 'yasp_sample.json', 'player_ratings.csv', 'teamfights.csv', 'match_outcomes.csv', 'patch_dates.csv', 'item_ids.csv', 'purchase_log.csv', 'player_time.csv', 'cluster_regions.csv', 'teamfights_players.csv', 'players.csv', 'chat.csv', 'hero_names.csv', 'ability_ids.csv', 'test_labels.csv', 'match.csv', 'objectives.csv', 'test_player.csv']\n",
          "name": "stdout"
        }
      ]
    },
    {
      "metadata": {
        "_cell_guid": "79c7e3d0-c299-4dcb-8224-4455121ee9b0",
        "_uuid": "d629ff2d2480ee46fbb7e2d37f6b5fab8052498a",
        "trusted": true,
        "scrolled": true
      },
      "cell_type": "code",
      "source": "matches = pd.read_csv('../input/match.csv', index_col=0)\nmatches.head()",
      "execution_count": 3,
      "outputs": [
        {
          "output_type": "execute_result",
          "execution_count": 3,
          "data": {
            "text/plain": "          start_time  duration   ...     positive_votes  cluster\nmatch_id                         ...                            \n0         1446750112      2375   ...                  1      155\n1         1446753078      2582   ...                  2      154\n2         1446764586      2716   ...                  0      132\n3         1446765723      3085   ...                  0      191\n4         1446796385      1887   ...                  0      156\n\n[5 rows x 12 columns]",
            "text/html": "<div>\n<style scoped>\n    .dataframe tbody tr th:only-of-type {\n        vertical-align: middle;\n    }\n\n    .dataframe tbody tr th {\n        vertical-align: top;\n    }\n\n    .dataframe thead th {\n        text-align: right;\n    }\n</style>\n<table border=\"1\" class=\"dataframe\">\n  <thead>\n    <tr style=\"text-align: right;\">\n      <th></th>\n      <th>start_time</th>\n      <th>duration</th>\n      <th>tower_status_radiant</th>\n      <th>tower_status_dire</th>\n      <th>barracks_status_dire</th>\n      <th>barracks_status_radiant</th>\n      <th>first_blood_time</th>\n      <th>game_mode</th>\n      <th>radiant_win</th>\n      <th>negative_votes</th>\n      <th>positive_votes</th>\n      <th>cluster</th>\n    </tr>\n    <tr>\n      <th>match_id</th>\n      <th></th>\n      <th></th>\n      <th></th>\n      <th></th>\n      <th></th>\n      <th></th>\n      <th></th>\n      <th></th>\n      <th></th>\n      <th></th>\n      <th></th>\n      <th></th>\n    </tr>\n  </thead>\n  <tbody>\n    <tr>\n      <th>0</th>\n      <td>1446750112</td>\n      <td>2375</td>\n      <td>1982</td>\n      <td>4</td>\n      <td>3</td>\n      <td>63</td>\n      <td>1</td>\n      <td>22</td>\n      <td>True</td>\n      <td>0</td>\n      <td>1</td>\n      <td>155</td>\n    </tr>\n    <tr>\n      <th>1</th>\n      <td>1446753078</td>\n      <td>2582</td>\n      <td>0</td>\n      <td>1846</td>\n      <td>63</td>\n      <td>0</td>\n      <td>221</td>\n      <td>22</td>\n      <td>False</td>\n      <td>0</td>\n      <td>2</td>\n      <td>154</td>\n    </tr>\n    <tr>\n      <th>2</th>\n      <td>1446764586</td>\n      <td>2716</td>\n      <td>256</td>\n      <td>1972</td>\n      <td>63</td>\n      <td>48</td>\n      <td>190</td>\n      <td>22</td>\n      <td>False</td>\n      <td>0</td>\n      <td>0</td>\n      <td>132</td>\n    </tr>\n    <tr>\n      <th>3</th>\n      <td>1446765723</td>\n      <td>3085</td>\n      <td>4</td>\n      <td>1924</td>\n      <td>51</td>\n      <td>3</td>\n      <td>40</td>\n      <td>22</td>\n      <td>False</td>\n      <td>0</td>\n      <td>0</td>\n      <td>191</td>\n    </tr>\n    <tr>\n      <th>4</th>\n      <td>1446796385</td>\n      <td>1887</td>\n      <td>2047</td>\n      <td>0</td>\n      <td>0</td>\n      <td>63</td>\n      <td>58</td>\n      <td>22</td>\n      <td>True</td>\n      <td>0</td>\n      <td>0</td>\n      <td>156</td>\n    </tr>\n  </tbody>\n</table>\n</div>"
          },
          "metadata": {}
        }
      ]
    },
    {
      "metadata": {
        "trusted": true,
        "scrolled": false,
        "_uuid": "c0688b529ee94ca87c73c07661c9d5cb0d388ed7"
      },
      "cell_type": "code",
      "source": "players = pd.read_csv('../input/players.csv')\nplayers.head()",
      "execution_count": 4,
      "outputs": [
        {
          "output_type": "execute_result",
          "execution_count": 4,
          "data": {
            "text/plain": "   match_id         ...           unit_order_continue\n0         0         ...                           NaN\n1         0         ...                           NaN\n2         0         ...                           NaN\n3         0         ...                           NaN\n4         0         ...                           NaN\n\n[5 rows x 73 columns]",
            "text/html": "<div>\n<style scoped>\n    .dataframe tbody tr th:only-of-type {\n        vertical-align: middle;\n    }\n\n    .dataframe tbody tr th {\n        vertical-align: top;\n    }\n\n    .dataframe thead th {\n        text-align: right;\n    }\n</style>\n<table border=\"1\" class=\"dataframe\">\n  <thead>\n    <tr style=\"text-align: right;\">\n      <th></th>\n      <th>match_id</th>\n      <th>account_id</th>\n      <th>hero_id</th>\n      <th>player_slot</th>\n      <th>gold</th>\n      <th>gold_spent</th>\n      <th>gold_per_min</th>\n      <th>xp_per_min</th>\n      <th>kills</th>\n      <th>deaths</th>\n      <th>assists</th>\n      <th>denies</th>\n      <th>last_hits</th>\n      <th>stuns</th>\n      <th>hero_damage</th>\n      <th>hero_healing</th>\n      <th>tower_damage</th>\n      <th>item_0</th>\n      <th>item_1</th>\n      <th>item_2</th>\n      <th>item_3</th>\n      <th>item_4</th>\n      <th>item_5</th>\n      <th>level</th>\n      <th>leaver_status</th>\n      <th>xp_hero</th>\n      <th>xp_creep</th>\n      <th>xp_roshan</th>\n      <th>xp_other</th>\n      <th>gold_other</th>\n      <th>gold_death</th>\n      <th>gold_buyback</th>\n      <th>gold_abandon</th>\n      <th>gold_sell</th>\n      <th>gold_destroying_structure</th>\n      <th>gold_killing_heros</th>\n      <th>gold_killing_creeps</th>\n      <th>gold_killing_roshan</th>\n      <th>gold_killing_couriers</th>\n      <th>unit_order_none</th>\n      <th>unit_order_move_to_position</th>\n      <th>unit_order_move_to_target</th>\n      <th>unit_order_attack_move</th>\n      <th>unit_order_attack_target</th>\n      <th>unit_order_cast_position</th>\n      <th>unit_order_cast_target</th>\n      <th>unit_order_cast_target_tree</th>\n      <th>unit_order_cast_no_target</th>\n      <th>unit_order_cast_toggle</th>\n      <th>unit_order_hold_position</th>\n      <th>unit_order_train_ability</th>\n      <th>unit_order_drop_item</th>\n      <th>unit_order_give_item</th>\n      <th>unit_order_pickup_item</th>\n      <th>unit_order_pickup_rune</th>\n      <th>unit_order_purchase_item</th>\n      <th>unit_order_sell_item</th>\n      <th>unit_order_disassemble_item</th>\n      <th>unit_order_move_item</th>\n      <th>unit_order_cast_toggle_auto</th>\n      <th>unit_order_stop</th>\n      <th>unit_order_taunt</th>\n      <th>unit_order_buyback</th>\n      <th>unit_order_glyph</th>\n      <th>unit_order_eject_item_from_stash</th>\n      <th>unit_order_cast_rune</th>\n      <th>unit_order_ping_ability</th>\n      <th>unit_order_move_to_direction</th>\n      <th>unit_order_patrol</th>\n      <th>unit_order_vector_target_position</th>\n      <th>unit_order_radar</th>\n      <th>unit_order_set_item_combine_lock</th>\n      <th>unit_order_continue</th>\n    </tr>\n  </thead>\n  <tbody>\n    <tr>\n      <th>0</th>\n      <td>0</td>\n      <td>0</td>\n      <td>86</td>\n      <td>0</td>\n      <td>3261</td>\n      <td>10960</td>\n      <td>347</td>\n      <td>362</td>\n      <td>9</td>\n      <td>3</td>\n      <td>18</td>\n      <td>1</td>\n      <td>30</td>\n      <td>76.7356</td>\n      <td>8690</td>\n      <td>218</td>\n      <td>143</td>\n      <td>180</td>\n      <td>37</td>\n      <td>73</td>\n      <td>56</td>\n      <td>108</td>\n      <td>0</td>\n      <td>16</td>\n      <td>0</td>\n      <td>8840.0</td>\n      <td>5440.0</td>\n      <td>NaN</td>\n      <td>83.0</td>\n      <td>50.0</td>\n      <td>-957.0</td>\n      <td>NaN</td>\n      <td>NaN</td>\n      <td>212.0</td>\n      <td>3120.0</td>\n      <td>5145.0</td>\n      <td>1087.0</td>\n      <td>400.0</td>\n      <td>NaN</td>\n      <td>NaN</td>\n      <td>4070.0</td>\n      <td>1.0</td>\n      <td>25.0</td>\n      <td>416.0</td>\n      <td>51.0</td>\n      <td>144.0</td>\n      <td>3.0</td>\n      <td>71.0</td>\n      <td>NaN</td>\n      <td>188.0</td>\n      <td>16.0</td>\n      <td>NaN</td>\n      <td>NaN</td>\n      <td>NaN</td>\n      <td>2.0</td>\n      <td>35.0</td>\n      <td>2.0</td>\n      <td>NaN</td>\n      <td>11.0</td>\n      <td>NaN</td>\n      <td>NaN</td>\n      <td>NaN</td>\n      <td>NaN</td>\n      <td>NaN</td>\n      <td>NaN</td>\n      <td>NaN</td>\n      <td>6.0</td>\n      <td>NaN</td>\n      <td>NaN</td>\n      <td>NaN</td>\n      <td>NaN</td>\n      <td>NaN</td>\n      <td>NaN</td>\n    </tr>\n    <tr>\n      <th>1</th>\n      <td>0</td>\n      <td>1</td>\n      <td>51</td>\n      <td>1</td>\n      <td>2954</td>\n      <td>17760</td>\n      <td>494</td>\n      <td>659</td>\n      <td>13</td>\n      <td>3</td>\n      <td>18</td>\n      <td>9</td>\n      <td>109</td>\n      <td>87.4164</td>\n      <td>23747</td>\n      <td>0</td>\n      <td>423</td>\n      <td>46</td>\n      <td>63</td>\n      <td>119</td>\n      <td>102</td>\n      <td>24</td>\n      <td>108</td>\n      <td>22</td>\n      <td>0</td>\n      <td>14331.0</td>\n      <td>8440.0</td>\n      <td>2683.0</td>\n      <td>671.0</td>\n      <td>395.0</td>\n      <td>-1137.0</td>\n      <td>NaN</td>\n      <td>NaN</td>\n      <td>1650.0</td>\n      <td>3299.0</td>\n      <td>6676.0</td>\n      <td>4317.0</td>\n      <td>937.0</td>\n      <td>NaN</td>\n      <td>NaN</td>\n      <td>5894.0</td>\n      <td>214.0</td>\n      <td>165.0</td>\n      <td>1031.0</td>\n      <td>98.0</td>\n      <td>39.0</td>\n      <td>4.0</td>\n      <td>439.0</td>\n      <td>NaN</td>\n      <td>346.0</td>\n      <td>22.0</td>\n      <td>NaN</td>\n      <td>NaN</td>\n      <td>12.0</td>\n      <td>52.0</td>\n      <td>30.0</td>\n      <td>4.0</td>\n      <td>NaN</td>\n      <td>21.0</td>\n      <td>NaN</td>\n      <td>NaN</td>\n      <td>NaN</td>\n      <td>NaN</td>\n      <td>NaN</td>\n      <td>NaN</td>\n      <td>NaN</td>\n      <td>14.0</td>\n      <td>NaN</td>\n      <td>NaN</td>\n      <td>NaN</td>\n      <td>NaN</td>\n      <td>NaN</td>\n      <td>NaN</td>\n    </tr>\n    <tr>\n      <th>2</th>\n      <td>0</td>\n      <td>0</td>\n      <td>83</td>\n      <td>2</td>\n      <td>110</td>\n      <td>12195</td>\n      <td>350</td>\n      <td>385</td>\n      <td>0</td>\n      <td>4</td>\n      <td>15</td>\n      <td>1</td>\n      <td>58</td>\n      <td>None</td>\n      <td>4217</td>\n      <td>1595</td>\n      <td>399</td>\n      <td>48</td>\n      <td>60</td>\n      <td>59</td>\n      <td>108</td>\n      <td>65</td>\n      <td>0</td>\n      <td>17</td>\n      <td>0</td>\n      <td>6692.0</td>\n      <td>8112.0</td>\n      <td>NaN</td>\n      <td>453.0</td>\n      <td>259.0</td>\n      <td>-1436.0</td>\n      <td>-1015.0</td>\n      <td>NaN</td>\n      <td>NaN</td>\n      <td>3142.0</td>\n      <td>2418.0</td>\n      <td>3697.0</td>\n      <td>400.0</td>\n      <td>NaN</td>\n      <td>NaN</td>\n      <td>7053.0</td>\n      <td>3.0</td>\n      <td>132.0</td>\n      <td>645.0</td>\n      <td>36.0</td>\n      <td>160.0</td>\n      <td>20.0</td>\n      <td>373.0</td>\n      <td>NaN</td>\n      <td>643.0</td>\n      <td>17.0</td>\n      <td>5.0</td>\n      <td>NaN</td>\n      <td>7.0</td>\n      <td>8.0</td>\n      <td>28.0</td>\n      <td>NaN</td>\n      <td>1.0</td>\n      <td>18.0</td>\n      <td>NaN</td>\n      <td>NaN</td>\n      <td>NaN</td>\n      <td>1.0</td>\n      <td>NaN</td>\n      <td>NaN</td>\n      <td>NaN</td>\n      <td>17.0</td>\n      <td>NaN</td>\n      <td>NaN</td>\n      <td>NaN</td>\n      <td>NaN</td>\n      <td>NaN</td>\n      <td>NaN</td>\n    </tr>\n    <tr>\n      <th>3</th>\n      <td>0</td>\n      <td>2</td>\n      <td>11</td>\n      <td>3</td>\n      <td>1179</td>\n      <td>22505</td>\n      <td>599</td>\n      <td>605</td>\n      <td>8</td>\n      <td>4</td>\n      <td>19</td>\n      <td>6</td>\n      <td>271</td>\n      <td>None</td>\n      <td>14832</td>\n      <td>2714</td>\n      <td>6055</td>\n      <td>63</td>\n      <td>147</td>\n      <td>154</td>\n      <td>164</td>\n      <td>79</td>\n      <td>160</td>\n      <td>21</td>\n      <td>0</td>\n      <td>8583.0</td>\n      <td>14230.0</td>\n      <td>894.0</td>\n      <td>293.0</td>\n      <td>100.0</td>\n      <td>-2156.0</td>\n      <td>NaN</td>\n      <td>NaN</td>\n      <td>938.0</td>\n      <td>4714.0</td>\n      <td>4104.0</td>\n      <td>10432.0</td>\n      <td>400.0</td>\n      <td>NaN</td>\n      <td>NaN</td>\n      <td>4712.0</td>\n      <td>133.0</td>\n      <td>163.0</td>\n      <td>690.0</td>\n      <td>9.0</td>\n      <td>15.0</td>\n      <td>7.0</td>\n      <td>406.0</td>\n      <td>NaN</td>\n      <td>150.0</td>\n      <td>21.0</td>\n      <td>NaN</td>\n      <td>NaN</td>\n      <td>1.0</td>\n      <td>9.0</td>\n      <td>45.0</td>\n      <td>7.0</td>\n      <td>NaN</td>\n      <td>14.0</td>\n      <td>NaN</td>\n      <td>NaN</td>\n      <td>NaN</td>\n      <td>NaN</td>\n      <td>1.0</td>\n      <td>NaN</td>\n      <td>NaN</td>\n      <td>13.0</td>\n      <td>NaN</td>\n      <td>NaN</td>\n      <td>NaN</td>\n      <td>NaN</td>\n      <td>NaN</td>\n      <td>NaN</td>\n    </tr>\n    <tr>\n      <th>4</th>\n      <td>0</td>\n      <td>3</td>\n      <td>67</td>\n      <td>4</td>\n      <td>3307</td>\n      <td>23825</td>\n      <td>613</td>\n      <td>762</td>\n      <td>20</td>\n      <td>3</td>\n      <td>17</td>\n      <td>13</td>\n      <td>245</td>\n      <td>None</td>\n      <td>33740</td>\n      <td>243</td>\n      <td>1833</td>\n      <td>114</td>\n      <td>92</td>\n      <td>147</td>\n      <td>0</td>\n      <td>137</td>\n      <td>63</td>\n      <td>24</td>\n      <td>0</td>\n      <td>15814.0</td>\n      <td>14325.0</td>\n      <td>NaN</td>\n      <td>62.0</td>\n      <td>NaN</td>\n      <td>-1437.0</td>\n      <td>-1056.0</td>\n      <td>NaN</td>\n      <td>4194.0</td>\n      <td>3217.0</td>\n      <td>7467.0</td>\n      <td>9220.0</td>\n      <td>400.0</td>\n      <td>NaN</td>\n      <td>NaN</td>\n      <td>3853.0</td>\n      <td>7.0</td>\n      <td>7.0</td>\n      <td>1173.0</td>\n      <td>31.0</td>\n      <td>84.0</td>\n      <td>8.0</td>\n      <td>198.0</td>\n      <td>NaN</td>\n      <td>111.0</td>\n      <td>23.0</td>\n      <td>1.0</td>\n      <td>NaN</td>\n      <td>NaN</td>\n      <td>2.0</td>\n      <td>44.0</td>\n      <td>6.0</td>\n      <td>NaN</td>\n      <td>13.0</td>\n      <td>NaN</td>\n      <td>NaN</td>\n      <td>NaN</td>\n      <td>1.0</td>\n      <td>3.0</td>\n      <td>NaN</td>\n      <td>NaN</td>\n      <td>23.0</td>\n      <td>NaN</td>\n      <td>NaN</td>\n      <td>NaN</td>\n      <td>NaN</td>\n      <td>NaN</td>\n      <td>NaN</td>\n    </tr>\n  </tbody>\n</table>\n</div>"
          },
          "metadata": {}
        }
      ]
    },
    {
      "metadata": {
        "trusted": true,
        "_uuid": "f82e7e014228c6474f597611807ecb339251b8d0"
      },
      "cell_type": "code",
      "source": "players.shape",
      "execution_count": 46,
      "outputs": [
        {
          "output_type": "execute_result",
          "execution_count": 46,
          "data": {
            "text/plain": "(500000, 73)"
          },
          "metadata": {}
        }
      ]
    },
    {
      "metadata": {
        "trusted": true,
        "_uuid": "6cad4ea72a31781a6fb4d98295f2e9281740afcd"
      },
      "cell_type": "code",
      "source": "sum(players.gold_per_min)/len(players)  #average GPM",
      "execution_count": 47,
      "outputs": [
        {
          "output_type": "execute_result",
          "execution_count": 47,
          "data": {
            "text/plain": "415.097178"
          },
          "metadata": {}
        }
      ]
    },
    {
      "metadata": {
        "trusted": true,
        "_uuid": "17fbe4500d80de632c90885173dfd1dd1de85b3e"
      },
      "cell_type": "code",
      "source": "player_time = pd.read_csv('../input/player_time.csv')\nplayer_time.head()",
      "execution_count": 5,
      "outputs": [
        {
          "output_type": "execute_result",
          "execution_count": 5,
          "data": {
            "text/plain": "   match_id  times  gold_t_0    ...     gold_t_132  lh_t_132  xp_t_132\n0         0      0         0    ...              0         0         0\n1         0     60       409    ...            613         1       125\n2         0    120       546    ...            815         5       323\n3         0    180       683    ...           1290         8       527\n4         0    240       956    ...           1431         9       589\n\n[5 rows x 32 columns]",
            "text/html": "<div>\n<style scoped>\n    .dataframe tbody tr th:only-of-type {\n        vertical-align: middle;\n    }\n\n    .dataframe tbody tr th {\n        vertical-align: top;\n    }\n\n    .dataframe thead th {\n        text-align: right;\n    }\n</style>\n<table border=\"1\" class=\"dataframe\">\n  <thead>\n    <tr style=\"text-align: right;\">\n      <th></th>\n      <th>match_id</th>\n      <th>times</th>\n      <th>gold_t_0</th>\n      <th>lh_t_0</th>\n      <th>xp_t_0</th>\n      <th>gold_t_1</th>\n      <th>lh_t_1</th>\n      <th>xp_t_1</th>\n      <th>gold_t_2</th>\n      <th>lh_t_2</th>\n      <th>xp_t_2</th>\n      <th>gold_t_3</th>\n      <th>lh_t_3</th>\n      <th>xp_t_3</th>\n      <th>gold_t_4</th>\n      <th>lh_t_4</th>\n      <th>xp_t_4</th>\n      <th>gold_t_128</th>\n      <th>lh_t_128</th>\n      <th>xp_t_128</th>\n      <th>gold_t_129</th>\n      <th>lh_t_129</th>\n      <th>xp_t_129</th>\n      <th>gold_t_130</th>\n      <th>lh_t_130</th>\n      <th>xp_t_130</th>\n      <th>gold_t_131</th>\n      <th>lh_t_131</th>\n      <th>xp_t_131</th>\n      <th>gold_t_132</th>\n      <th>lh_t_132</th>\n      <th>xp_t_132</th>\n    </tr>\n  </thead>\n  <tbody>\n    <tr>\n      <th>0</th>\n      <td>0</td>\n      <td>0</td>\n      <td>0</td>\n      <td>0</td>\n      <td>0</td>\n      <td>0</td>\n      <td>0</td>\n      <td>0</td>\n      <td>0</td>\n      <td>0</td>\n      <td>0</td>\n      <td>0</td>\n      <td>0</td>\n      <td>0</td>\n      <td>0</td>\n      <td>0</td>\n      <td>0</td>\n      <td>0</td>\n      <td>0</td>\n      <td>0</td>\n      <td>0</td>\n      <td>0</td>\n      <td>0</td>\n      <td>0</td>\n      <td>0</td>\n      <td>0</td>\n      <td>0</td>\n      <td>0</td>\n      <td>0</td>\n      <td>0</td>\n      <td>0</td>\n      <td>0</td>\n    </tr>\n    <tr>\n      <th>1</th>\n      <td>0</td>\n      <td>60</td>\n      <td>409</td>\n      <td>0</td>\n      <td>63</td>\n      <td>142</td>\n      <td>1</td>\n      <td>186</td>\n      <td>168</td>\n      <td>0</td>\n      <td>125</td>\n      <td>200</td>\n      <td>0</td>\n      <td>193</td>\n      <td>194</td>\n      <td>1</td>\n      <td>125</td>\n      <td>174</td>\n      <td>2</td>\n      <td>77</td>\n      <td>138</td>\n      <td>1</td>\n      <td>62</td>\n      <td>345</td>\n      <td>6</td>\n      <td>351</td>\n      <td>100</td>\n      <td>0</td>\n      <td>77</td>\n      <td>613</td>\n      <td>1</td>\n      <td>125</td>\n    </tr>\n    <tr>\n      <th>2</th>\n      <td>0</td>\n      <td>120</td>\n      <td>546</td>\n      <td>0</td>\n      <td>283</td>\n      <td>622</td>\n      <td>4</td>\n      <td>645</td>\n      <td>330</td>\n      <td>0</td>\n      <td>376</td>\n      <td>345</td>\n      <td>1</td>\n      <td>698</td>\n      <td>628</td>\n      <td>5</td>\n      <td>374</td>\n      <td>354</td>\n      <td>4</td>\n      <td>437</td>\n      <td>673</td>\n      <td>5</td>\n      <td>543</td>\n      <td>684</td>\n      <td>12</td>\n      <td>805</td>\n      <td>200</td>\n      <td>0</td>\n      <td>210</td>\n      <td>815</td>\n      <td>5</td>\n      <td>323</td>\n    </tr>\n    <tr>\n      <th>3</th>\n      <td>0</td>\n      <td>180</td>\n      <td>683</td>\n      <td>1</td>\n      <td>314</td>\n      <td>927</td>\n      <td>9</td>\n      <td>1202</td>\n      <td>430</td>\n      <td>0</td>\n      <td>376</td>\n      <td>644</td>\n      <td>6</td>\n      <td>1172</td>\n      <td>806</td>\n      <td>7</td>\n      <td>570</td>\n      <td>614</td>\n      <td>8</td>\n      <td>829</td>\n      <td>895</td>\n      <td>8</td>\n      <td>842</td>\n      <td>958</td>\n      <td>16</td>\n      <td>1135</td>\n      <td>300</td>\n      <td>0</td>\n      <td>210</td>\n      <td>1290</td>\n      <td>8</td>\n      <td>527</td>\n    </tr>\n    <tr>\n      <th>4</th>\n      <td>0</td>\n      <td>240</td>\n      <td>956</td>\n      <td>1</td>\n      <td>485</td>\n      <td>1264</td>\n      <td>11</td>\n      <td>1583</td>\n      <td>530</td>\n      <td>0</td>\n      <td>391</td>\n      <td>919</td>\n      <td>11</td>\n      <td>1610</td>\n      <td>1281</td>\n      <td>10</td>\n      <td>1216</td>\n      <td>1082</td>\n      <td>8</td>\n      <td>1318</td>\n      <td>1087</td>\n      <td>10</td>\n      <td>1048</td>\n      <td>1500</td>\n      <td>26</td>\n      <td>1842</td>\n      <td>400</td>\n      <td>0</td>\n      <td>210</td>\n      <td>1431</td>\n      <td>9</td>\n      <td>589</td>\n    </tr>\n  </tbody>\n</table>\n</div>"
          },
          "metadata": {}
        }
      ]
    },
    {
      "metadata": {
        "trusted": true,
        "_uuid": "37d09a6e077af62a551ef1bb9695a196812869a7"
      },
      "cell_type": "code",
      "source": "player_time = pd.read_csv('../input/player_time.csv')\nplayer_time.head()",
      "execution_count": 6,
      "outputs": [
        {
          "output_type": "execute_result",
          "execution_count": 6,
          "data": {
            "text/plain": "   match_id  times  gold_t_0    ...     gold_t_132  lh_t_132  xp_t_132\n0         0      0         0    ...              0         0         0\n1         0     60       409    ...            613         1       125\n2         0    120       546    ...            815         5       323\n3         0    180       683    ...           1290         8       527\n4         0    240       956    ...           1431         9       589\n\n[5 rows x 32 columns]",
            "text/html": "<div>\n<style scoped>\n    .dataframe tbody tr th:only-of-type {\n        vertical-align: middle;\n    }\n\n    .dataframe tbody tr th {\n        vertical-align: top;\n    }\n\n    .dataframe thead th {\n        text-align: right;\n    }\n</style>\n<table border=\"1\" class=\"dataframe\">\n  <thead>\n    <tr style=\"text-align: right;\">\n      <th></th>\n      <th>match_id</th>\n      <th>times</th>\n      <th>gold_t_0</th>\n      <th>lh_t_0</th>\n      <th>xp_t_0</th>\n      <th>gold_t_1</th>\n      <th>lh_t_1</th>\n      <th>xp_t_1</th>\n      <th>gold_t_2</th>\n      <th>lh_t_2</th>\n      <th>xp_t_2</th>\n      <th>gold_t_3</th>\n      <th>lh_t_3</th>\n      <th>xp_t_3</th>\n      <th>gold_t_4</th>\n      <th>lh_t_4</th>\n      <th>xp_t_4</th>\n      <th>gold_t_128</th>\n      <th>lh_t_128</th>\n      <th>xp_t_128</th>\n      <th>gold_t_129</th>\n      <th>lh_t_129</th>\n      <th>xp_t_129</th>\n      <th>gold_t_130</th>\n      <th>lh_t_130</th>\n      <th>xp_t_130</th>\n      <th>gold_t_131</th>\n      <th>lh_t_131</th>\n      <th>xp_t_131</th>\n      <th>gold_t_132</th>\n      <th>lh_t_132</th>\n      <th>xp_t_132</th>\n    </tr>\n  </thead>\n  <tbody>\n    <tr>\n      <th>0</th>\n      <td>0</td>\n      <td>0</td>\n      <td>0</td>\n      <td>0</td>\n      <td>0</td>\n      <td>0</td>\n      <td>0</td>\n      <td>0</td>\n      <td>0</td>\n      <td>0</td>\n      <td>0</td>\n      <td>0</td>\n      <td>0</td>\n      <td>0</td>\n      <td>0</td>\n      <td>0</td>\n      <td>0</td>\n      <td>0</td>\n      <td>0</td>\n      <td>0</td>\n      <td>0</td>\n      <td>0</td>\n      <td>0</td>\n      <td>0</td>\n      <td>0</td>\n      <td>0</td>\n      <td>0</td>\n      <td>0</td>\n      <td>0</td>\n      <td>0</td>\n      <td>0</td>\n      <td>0</td>\n    </tr>\n    <tr>\n      <th>1</th>\n      <td>0</td>\n      <td>60</td>\n      <td>409</td>\n      <td>0</td>\n      <td>63</td>\n      <td>142</td>\n      <td>1</td>\n      <td>186</td>\n      <td>168</td>\n      <td>0</td>\n      <td>125</td>\n      <td>200</td>\n      <td>0</td>\n      <td>193</td>\n      <td>194</td>\n      <td>1</td>\n      <td>125</td>\n      <td>174</td>\n      <td>2</td>\n      <td>77</td>\n      <td>138</td>\n      <td>1</td>\n      <td>62</td>\n      <td>345</td>\n      <td>6</td>\n      <td>351</td>\n      <td>100</td>\n      <td>0</td>\n      <td>77</td>\n      <td>613</td>\n      <td>1</td>\n      <td>125</td>\n    </tr>\n    <tr>\n      <th>2</th>\n      <td>0</td>\n      <td>120</td>\n      <td>546</td>\n      <td>0</td>\n      <td>283</td>\n      <td>622</td>\n      <td>4</td>\n      <td>645</td>\n      <td>330</td>\n      <td>0</td>\n      <td>376</td>\n      <td>345</td>\n      <td>1</td>\n      <td>698</td>\n      <td>628</td>\n      <td>5</td>\n      <td>374</td>\n      <td>354</td>\n      <td>4</td>\n      <td>437</td>\n      <td>673</td>\n      <td>5</td>\n      <td>543</td>\n      <td>684</td>\n      <td>12</td>\n      <td>805</td>\n      <td>200</td>\n      <td>0</td>\n      <td>210</td>\n      <td>815</td>\n      <td>5</td>\n      <td>323</td>\n    </tr>\n    <tr>\n      <th>3</th>\n      <td>0</td>\n      <td>180</td>\n      <td>683</td>\n      <td>1</td>\n      <td>314</td>\n      <td>927</td>\n      <td>9</td>\n      <td>1202</td>\n      <td>430</td>\n      <td>0</td>\n      <td>376</td>\n      <td>644</td>\n      <td>6</td>\n      <td>1172</td>\n      <td>806</td>\n      <td>7</td>\n      <td>570</td>\n      <td>614</td>\n      <td>8</td>\n      <td>829</td>\n      <td>895</td>\n      <td>8</td>\n      <td>842</td>\n      <td>958</td>\n      <td>16</td>\n      <td>1135</td>\n      <td>300</td>\n      <td>0</td>\n      <td>210</td>\n      <td>1290</td>\n      <td>8</td>\n      <td>527</td>\n    </tr>\n    <tr>\n      <th>4</th>\n      <td>0</td>\n      <td>240</td>\n      <td>956</td>\n      <td>1</td>\n      <td>485</td>\n      <td>1264</td>\n      <td>11</td>\n      <td>1583</td>\n      <td>530</td>\n      <td>0</td>\n      <td>391</td>\n      <td>919</td>\n      <td>11</td>\n      <td>1610</td>\n      <td>1281</td>\n      <td>10</td>\n      <td>1216</td>\n      <td>1082</td>\n      <td>8</td>\n      <td>1318</td>\n      <td>1087</td>\n      <td>10</td>\n      <td>1048</td>\n      <td>1500</td>\n      <td>26</td>\n      <td>1842</td>\n      <td>400</td>\n      <td>0</td>\n      <td>210</td>\n      <td>1431</td>\n      <td>9</td>\n      <td>589</td>\n    </tr>\n  </tbody>\n</table>\n</div>"
          },
          "metadata": {}
        }
      ]
    },
    {
      "metadata": {
        "trusted": true,
        "_uuid": "b356f4d95d8136c29f3fd379904c33670512013b"
      },
      "cell_type": "code",
      "source": "a_match = player_time.query('match_id == 1')  # the match details of match id =1",
      "execution_count": 7,
      "outputs": []
    },
    {
      "metadata": {
        "trusted": true,
        "_uuid": "9b013634a5e4bf4b5ced85b8b282ccbc80410c4b"
      },
      "cell_type": "code",
      "source": "teamfights = pd.read_csv('../input/teamfights.csv')\nteamfights.head()",
      "execution_count": 8,
      "outputs": [
        {
          "output_type": "execute_result",
          "execution_count": 8,
          "data": {
            "text/plain": "   match_id  start   end  last_death  deaths\n0         0    220   252         237       3\n1         0    429   475         460       3\n2         0    900   936         921       3\n3         0   1284  1328        1313       3\n4         0   1614  1666        1651       5",
            "text/html": "<div>\n<style scoped>\n    .dataframe tbody tr th:only-of-type {\n        vertical-align: middle;\n    }\n\n    .dataframe tbody tr th {\n        vertical-align: top;\n    }\n\n    .dataframe thead th {\n        text-align: right;\n    }\n</style>\n<table border=\"1\" class=\"dataframe\">\n  <thead>\n    <tr style=\"text-align: right;\">\n      <th></th>\n      <th>match_id</th>\n      <th>start</th>\n      <th>end</th>\n      <th>last_death</th>\n      <th>deaths</th>\n    </tr>\n  </thead>\n  <tbody>\n    <tr>\n      <th>0</th>\n      <td>0</td>\n      <td>220</td>\n      <td>252</td>\n      <td>237</td>\n      <td>3</td>\n    </tr>\n    <tr>\n      <th>1</th>\n      <td>0</td>\n      <td>429</td>\n      <td>475</td>\n      <td>460</td>\n      <td>3</td>\n    </tr>\n    <tr>\n      <th>2</th>\n      <td>0</td>\n      <td>900</td>\n      <td>936</td>\n      <td>921</td>\n      <td>3</td>\n    </tr>\n    <tr>\n      <th>3</th>\n      <td>0</td>\n      <td>1284</td>\n      <td>1328</td>\n      <td>1313</td>\n      <td>3</td>\n    </tr>\n    <tr>\n      <th>4</th>\n      <td>0</td>\n      <td>1614</td>\n      <td>1666</td>\n      <td>1651</td>\n      <td>5</td>\n    </tr>\n  </tbody>\n</table>\n</div>"
          },
          "metadata": {}
        }
      ]
    },
    {
      "metadata": {
        "trusted": true,
        "_uuid": "f24c5a7b441ccce37a59b2bd0692dd1d2195aac7"
      },
      "cell_type": "code",
      "source": "teamfights_players = pd.read_csv('../input/teamfights_players.csv')\nteamfights_players.head()",
      "execution_count": 9,
      "outputs": [
        {
          "output_type": "execute_result",
          "execution_count": 9,
          "data": {
            "text/plain": "   match_id  player_slot  buybacks    ...     gold_delta  xp_end  xp_start\n0         0            0         0    ...            173     536       314\n1         0            1         0    ...              0    1583      1418\n2         0            2         0    ...              0     391       391\n3         0            3         0    ...            123    1775      1419\n4         0            4         0    ...            336    1267       983\n\n[5 rows x 8 columns]",
            "text/html": "<div>\n<style scoped>\n    .dataframe tbody tr th:only-of-type {\n        vertical-align: middle;\n    }\n\n    .dataframe tbody tr th {\n        vertical-align: top;\n    }\n\n    .dataframe thead th {\n        text-align: right;\n    }\n</style>\n<table border=\"1\" class=\"dataframe\">\n  <thead>\n    <tr style=\"text-align: right;\">\n      <th></th>\n      <th>match_id</th>\n      <th>player_slot</th>\n      <th>buybacks</th>\n      <th>damage</th>\n      <th>deaths</th>\n      <th>gold_delta</th>\n      <th>xp_end</th>\n      <th>xp_start</th>\n    </tr>\n  </thead>\n  <tbody>\n    <tr>\n      <th>0</th>\n      <td>0</td>\n      <td>0</td>\n      <td>0</td>\n      <td>105</td>\n      <td>0</td>\n      <td>173</td>\n      <td>536</td>\n      <td>314</td>\n    </tr>\n    <tr>\n      <th>1</th>\n      <td>0</td>\n      <td>1</td>\n      <td>0</td>\n      <td>566</td>\n      <td>1</td>\n      <td>0</td>\n      <td>1583</td>\n      <td>1418</td>\n    </tr>\n    <tr>\n      <th>2</th>\n      <td>0</td>\n      <td>2</td>\n      <td>0</td>\n      <td>0</td>\n      <td>0</td>\n      <td>0</td>\n      <td>391</td>\n      <td>391</td>\n    </tr>\n    <tr>\n      <th>3</th>\n      <td>0</td>\n      <td>3</td>\n      <td>0</td>\n      <td>0</td>\n      <td>0</td>\n      <td>123</td>\n      <td>1775</td>\n      <td>1419</td>\n    </tr>\n    <tr>\n      <th>4</th>\n      <td>0</td>\n      <td>4</td>\n      <td>0</td>\n      <td>444</td>\n      <td>0</td>\n      <td>336</td>\n      <td>1267</td>\n      <td>983</td>\n    </tr>\n  </tbody>\n</table>\n</div>"
          },
          "metadata": {}
        }
      ]
    },
    {
      "metadata": {
        "trusted": true,
        "_uuid": "367d311604b850103d8a7a53724dfbbeae8cdd63"
      },
      "cell_type": "code",
      "source": "player_ratings = pd.read_csv('../input/player_ratings.csv')\nplayer_ratings.head()\n",
      "execution_count": 11,
      "outputs": [
        {
          "output_type": "execute_result",
          "execution_count": 11,
          "data": {
            "text/plain": "   account_id  total_wins       ...         trueskill_mu  trueskill_sigma\n0      236579          14       ...            27.868035         5.212361\n1        -343           1       ...            26.544163         8.065475\n2       -1217           1       ...            26.521103         8.114989\n3       -1227           1       ...            27.248025         8.092217\n4       -1284           0       ...            22.931016         8.092224\n\n[5 rows x 5 columns]",
            "text/html": "<div>\n<style scoped>\n    .dataframe tbody tr th:only-of-type {\n        vertical-align: middle;\n    }\n\n    .dataframe tbody tr th {\n        vertical-align: top;\n    }\n\n    .dataframe thead th {\n        text-align: right;\n    }\n</style>\n<table border=\"1\" class=\"dataframe\">\n  <thead>\n    <tr style=\"text-align: right;\">\n      <th></th>\n      <th>account_id</th>\n      <th>total_wins</th>\n      <th>total_matches</th>\n      <th>trueskill_mu</th>\n      <th>trueskill_sigma</th>\n    </tr>\n  </thead>\n  <tbody>\n    <tr>\n      <th>0</th>\n      <td>236579</td>\n      <td>14</td>\n      <td>24</td>\n      <td>27.868035</td>\n      <td>5.212361</td>\n    </tr>\n    <tr>\n      <th>1</th>\n      <td>-343</td>\n      <td>1</td>\n      <td>1</td>\n      <td>26.544163</td>\n      <td>8.065475</td>\n    </tr>\n    <tr>\n      <th>2</th>\n      <td>-1217</td>\n      <td>1</td>\n      <td>1</td>\n      <td>26.521103</td>\n      <td>8.114989</td>\n    </tr>\n    <tr>\n      <th>3</th>\n      <td>-1227</td>\n      <td>1</td>\n      <td>1</td>\n      <td>27.248025</td>\n      <td>8.092217</td>\n    </tr>\n    <tr>\n      <th>4</th>\n      <td>-1284</td>\n      <td>0</td>\n      <td>1</td>\n      <td>22.931016</td>\n      <td>8.092224</td>\n    </tr>\n  </tbody>\n</table>\n</div>"
          },
          "metadata": {}
        }
      ]
    },
    {
      "metadata": {
        "trusted": true,
        "_uuid": "9f11fef60454a379ad632c9bacce7b2fb8ab77b3"
      },
      "cell_type": "code",
      "source": "match_outcomes = pd.read_csv('../input/match_outcomes.csv')\nability_upgrades = pd.read_csv('../input/ability_upgrades.csv')\nability_ids = pd.read_csv('../input/ability_ids.csv')",
      "execution_count": 13,
      "outputs": []
    },
    {
      "metadata": {
        "trusted": true,
        "_uuid": "ca3f4168ca9be99e9a6cdd258051d4c7e83a507c"
      },
      "cell_type": "code",
      "source": "purchase_log = pd.read_csv('../input/purchase_log.csv')\nitem_ids = pd.read_csv('../input/item_ids.csv')",
      "execution_count": 14,
      "outputs": []
    },
    {
      "metadata": {
        "trusted": true,
        "_uuid": "8328dfc8cf5209628816a9f7920220c8ff061854"
      },
      "cell_type": "code",
      "source": "item_ids.head()",
      "execution_count": 17,
      "outputs": [
        {
          "output_type": "execute_result",
          "execution_count": 17,
          "data": {
            "text/plain": "   item_id         item_name\n0        1             blink\n1        2  blades_of_attack\n2        3        broadsword\n3        4         chainmail\n4        5          claymore",
            "text/html": "<div>\n<style scoped>\n    .dataframe tbody tr th:only-of-type {\n        vertical-align: middle;\n    }\n\n    .dataframe tbody tr th {\n        vertical-align: top;\n    }\n\n    .dataframe thead th {\n        text-align: right;\n    }\n</style>\n<table border=\"1\" class=\"dataframe\">\n  <thead>\n    <tr style=\"text-align: right;\">\n      <th></th>\n      <th>item_id</th>\n      <th>item_name</th>\n    </tr>\n  </thead>\n  <tbody>\n    <tr>\n      <th>0</th>\n      <td>1</td>\n      <td>blink</td>\n    </tr>\n    <tr>\n      <th>1</th>\n      <td>2</td>\n      <td>blades_of_attack</td>\n    </tr>\n    <tr>\n      <th>2</th>\n      <td>3</td>\n      <td>broadsword</td>\n    </tr>\n    <tr>\n      <th>3</th>\n      <td>4</td>\n      <td>chainmail</td>\n    </tr>\n    <tr>\n      <th>4</th>\n      <td>5</td>\n      <td>claymore</td>\n    </tr>\n  </tbody>\n</table>\n</div>"
          },
          "metadata": {}
        }
      ]
    },
    {
      "metadata": {
        "trusted": true,
        "_uuid": "b92d734708fd393c201e40764b878d89ef6f97d7"
      },
      "cell_type": "code",
      "source": "players[players['account_id']==81001][:]",
      "execution_count": 33,
      "outputs": [
        {
          "output_type": "execute_result",
          "execution_count": 33,
          "data": {
            "text/plain": "        match_id         ...           unit_order_continue\n203631     20363         ...                           NaN\n256834     25683         ...                           NaN\n293401     29340         ...                           NaN\n387917     38791         ...                           NaN\n437572     43757         ...                           NaN\n\n[5 rows x 73 columns]",
            "text/html": "<div>\n<style scoped>\n    .dataframe tbody tr th:only-of-type {\n        vertical-align: middle;\n    }\n\n    .dataframe tbody tr th {\n        vertical-align: top;\n    }\n\n    .dataframe thead th {\n        text-align: right;\n    }\n</style>\n<table border=\"1\" class=\"dataframe\">\n  <thead>\n    <tr style=\"text-align: right;\">\n      <th></th>\n      <th>match_id</th>\n      <th>account_id</th>\n      <th>hero_id</th>\n      <th>player_slot</th>\n      <th>gold</th>\n      <th>gold_spent</th>\n      <th>gold_per_min</th>\n      <th>xp_per_min</th>\n      <th>kills</th>\n      <th>deaths</th>\n      <th>assists</th>\n      <th>denies</th>\n      <th>last_hits</th>\n      <th>stuns</th>\n      <th>hero_damage</th>\n      <th>hero_healing</th>\n      <th>tower_damage</th>\n      <th>item_0</th>\n      <th>item_1</th>\n      <th>item_2</th>\n      <th>item_3</th>\n      <th>item_4</th>\n      <th>item_5</th>\n      <th>level</th>\n      <th>leaver_status</th>\n      <th>xp_hero</th>\n      <th>xp_creep</th>\n      <th>xp_roshan</th>\n      <th>xp_other</th>\n      <th>gold_other</th>\n      <th>gold_death</th>\n      <th>gold_buyback</th>\n      <th>gold_abandon</th>\n      <th>gold_sell</th>\n      <th>gold_destroying_structure</th>\n      <th>gold_killing_heros</th>\n      <th>gold_killing_creeps</th>\n      <th>gold_killing_roshan</th>\n      <th>gold_killing_couriers</th>\n      <th>unit_order_none</th>\n      <th>unit_order_move_to_position</th>\n      <th>unit_order_move_to_target</th>\n      <th>unit_order_attack_move</th>\n      <th>unit_order_attack_target</th>\n      <th>unit_order_cast_position</th>\n      <th>unit_order_cast_target</th>\n      <th>unit_order_cast_target_tree</th>\n      <th>unit_order_cast_no_target</th>\n      <th>unit_order_cast_toggle</th>\n      <th>unit_order_hold_position</th>\n      <th>unit_order_train_ability</th>\n      <th>unit_order_drop_item</th>\n      <th>unit_order_give_item</th>\n      <th>unit_order_pickup_item</th>\n      <th>unit_order_pickup_rune</th>\n      <th>unit_order_purchase_item</th>\n      <th>unit_order_sell_item</th>\n      <th>unit_order_disassemble_item</th>\n      <th>unit_order_move_item</th>\n      <th>unit_order_cast_toggle_auto</th>\n      <th>unit_order_stop</th>\n      <th>unit_order_taunt</th>\n      <th>unit_order_buyback</th>\n      <th>unit_order_glyph</th>\n      <th>unit_order_eject_item_from_stash</th>\n      <th>unit_order_cast_rune</th>\n      <th>unit_order_ping_ability</th>\n      <th>unit_order_move_to_direction</th>\n      <th>unit_order_patrol</th>\n      <th>unit_order_vector_target_position</th>\n      <th>unit_order_radar</th>\n      <th>unit_order_set_item_combine_lock</th>\n      <th>unit_order_continue</th>\n    </tr>\n  </thead>\n  <tbody>\n    <tr>\n      <th>203631</th>\n      <td>20363</td>\n      <td>81001</td>\n      <td>67</td>\n      <td>1</td>\n      <td>7718</td>\n      <td>20470</td>\n      <td>630</td>\n      <td>728</td>\n      <td>12</td>\n      <td>3</td>\n      <td>19</td>\n      <td>16</td>\n      <td>313</td>\n      <td>None</td>\n      <td>25935</td>\n      <td>0</td>\n      <td>2245</td>\n      <td>185</td>\n      <td>46</td>\n      <td>114</td>\n      <td>50</td>\n      <td>147</td>\n      <td>137</td>\n      <td>24</td>\n      <td>0</td>\n      <td>14483.0</td>\n      <td>17183.0</td>\n      <td>NaN</td>\n      <td>339.0</td>\n      <td>194.0</td>\n      <td>-1197.0</td>\n      <td>NaN</td>\n      <td>NaN</td>\n      <td>444.0</td>\n      <td>3245.0</td>\n      <td>7743.0</td>\n      <td>12105.0</td>\n      <td>NaN</td>\n      <td>NaN</td>\n      <td>NaN</td>\n      <td>3770.0</td>\n      <td>NaN</td>\n      <td>36.0</td>\n      <td>999.0</td>\n      <td>25.0</td>\n      <td>31.0</td>\n      <td>15.0</td>\n      <td>192.0</td>\n      <td>NaN</td>\n      <td>334.0</td>\n      <td>23.0</td>\n      <td>NaN</td>\n      <td>NaN</td>\n      <td>NaN</td>\n      <td>45.0</td>\n      <td>32.0</td>\n      <td>4.0</td>\n      <td>NaN</td>\n      <td>10.0</td>\n      <td>NaN</td>\n      <td>NaN</td>\n      <td>NaN</td>\n      <td>NaN</td>\n      <td>NaN</td>\n      <td>NaN</td>\n      <td>NaN</td>\n      <td>16.0</td>\n      <td>NaN</td>\n      <td>NaN</td>\n      <td>NaN</td>\n      <td>NaN</td>\n      <td>NaN</td>\n      <td>NaN</td>\n    </tr>\n    <tr>\n      <th>256834</th>\n      <td>25683</td>\n      <td>81001</td>\n      <td>47</td>\n      <td>4</td>\n      <td>2046</td>\n      <td>9950</td>\n      <td>485</td>\n      <td>431</td>\n      <td>5</td>\n      <td>3</td>\n      <td>7</td>\n      <td>9</td>\n      <td>85</td>\n      <td>None</td>\n      <td>10213</td>\n      <td>555</td>\n      <td>1878</td>\n      <td>79</td>\n      <td>212</td>\n      <td>46</td>\n      <td>63</td>\n      <td>40</td>\n      <td>108</td>\n      <td>13</td>\n      <td>0</td>\n      <td>2758.0</td>\n      <td>7050.0</td>\n      <td>357.0</td>\n      <td>102.0</td>\n      <td>NaN</td>\n      <td>-957.0</td>\n      <td>NaN</td>\n      <td>NaN</td>\n      <td>81.0</td>\n      <td>3306.0</td>\n      <td>1970.0</td>\n      <td>3525.0</td>\n      <td>200.0</td>\n      <td>175.0</td>\n      <td>NaN</td>\n      <td>1762.0</td>\n      <td>NaN</td>\n      <td>17.0</td>\n      <td>355.0</td>\n      <td>5.0</td>\n      <td>112.0</td>\n      <td>7.0</td>\n      <td>33.0</td>\n      <td>2.0</td>\n      <td>188.0</td>\n      <td>13.0</td>\n      <td>NaN</td>\n      <td>NaN</td>\n      <td>NaN</td>\n      <td>NaN</td>\n      <td>30.0</td>\n      <td>2.0</td>\n      <td>NaN</td>\n      <td>4.0</td>\n      <td>3.0</td>\n      <td>NaN</td>\n      <td>NaN</td>\n      <td>NaN</td>\n      <td>NaN</td>\n      <td>NaN</td>\n      <td>NaN</td>\n      <td>1.0</td>\n      <td>NaN</td>\n      <td>NaN</td>\n      <td>NaN</td>\n      <td>NaN</td>\n      <td>NaN</td>\n      <td>NaN</td>\n    </tr>\n    <tr>\n      <th>293401</th>\n      <td>29340</td>\n      <td>81001</td>\n      <td>42</td>\n      <td>1</td>\n      <td>1576</td>\n      <td>18365</td>\n      <td>722</td>\n      <td>645</td>\n      <td>9</td>\n      <td>2</td>\n      <td>12</td>\n      <td>13</td>\n      <td>160</td>\n      <td>42.323</td>\n      <td>14934</td>\n      <td>1032</td>\n      <td>4625</td>\n      <td>65</td>\n      <td>247</td>\n      <td>247</td>\n      <td>63</td>\n      <td>1</td>\n      <td>168</td>\n      <td>18</td>\n      <td>0</td>\n      <td>7903.0</td>\n      <td>9537.0</td>\n      <td>447.0</td>\n      <td>90.0</td>\n      <td>NaN</td>\n      <td>-1048.0</td>\n      <td>-936.0</td>\n      <td>NaN</td>\n      <td>444.0</td>\n      <td>4650.0</td>\n      <td>3863.0</td>\n      <td>8327.0</td>\n      <td>486.0</td>\n      <td>NaN</td>\n      <td>NaN</td>\n      <td>2218.0</td>\n      <td>NaN</td>\n      <td>16.0</td>\n      <td>794.0</td>\n      <td>31.0</td>\n      <td>45.0</td>\n      <td>14.0</td>\n      <td>15.0</td>\n      <td>NaN</td>\n      <td>364.0</td>\n      <td>18.0</td>\n      <td>2.0</td>\n      <td>NaN</td>\n      <td>6.0</td>\n      <td>NaN</td>\n      <td>22.0</td>\n      <td>3.0</td>\n      <td>NaN</td>\n      <td>4.0</td>\n      <td>NaN</td>\n      <td>NaN</td>\n      <td>NaN</td>\n      <td>1.0</td>\n      <td>NaN</td>\n      <td>NaN</td>\n      <td>NaN</td>\n      <td>9.0</td>\n      <td>NaN</td>\n      <td>NaN</td>\n      <td>NaN</td>\n      <td>NaN</td>\n      <td>NaN</td>\n      <td>NaN</td>\n    </tr>\n    <tr>\n      <th>387917</th>\n      <td>38791</td>\n      <td>81001</td>\n      <td>28</td>\n      <td>130</td>\n      <td>1914</td>\n      <td>11585</td>\n      <td>470</td>\n      <td>460</td>\n      <td>6</td>\n      <td>4</td>\n      <td>16</td>\n      <td>4</td>\n      <td>55</td>\n      <td>67.4837</td>\n      <td>9667</td>\n      <td>0</td>\n      <td>745</td>\n      <td>216</td>\n      <td>46</td>\n      <td>63</td>\n      <td>102</td>\n      <td>1</td>\n      <td>154</td>\n      <td>15</td>\n      <td>0</td>\n      <td>7708.0</td>\n      <td>4840.0</td>\n      <td>447.0</td>\n      <td>70.0</td>\n      <td>NaN</td>\n      <td>-956.0</td>\n      <td>NaN</td>\n      <td>NaN</td>\n      <td>262.0</td>\n      <td>3985.0</td>\n      <td>3948.0</td>\n      <td>2155.0</td>\n      <td>424.0</td>\n      <td>NaN</td>\n      <td>NaN</td>\n      <td>2872.0</td>\n      <td>1.0</td>\n      <td>7.0</td>\n      <td>610.0</td>\n      <td>31.0</td>\n      <td>39.0</td>\n      <td>8.0</td>\n      <td>96.0</td>\n      <td>NaN</td>\n      <td>286.0</td>\n      <td>15.0</td>\n      <td>NaN</td>\n      <td>NaN</td>\n      <td>NaN</td>\n      <td>2.0</td>\n      <td>27.0</td>\n      <td>3.0</td>\n      <td>NaN</td>\n      <td>8.0</td>\n      <td>NaN</td>\n      <td>NaN</td>\n      <td>NaN</td>\n      <td>NaN</td>\n      <td>NaN</td>\n      <td>NaN</td>\n      <td>NaN</td>\n      <td>10.0</td>\n      <td>NaN</td>\n      <td>NaN</td>\n      <td>NaN</td>\n      <td>NaN</td>\n      <td>NaN</td>\n      <td>NaN</td>\n    </tr>\n    <tr>\n      <th>437572</th>\n      <td>43757</td>\n      <td>81001</td>\n      <td>67</td>\n      <td>2</td>\n      <td>1852</td>\n      <td>18815</td>\n      <td>494</td>\n      <td>568</td>\n      <td>12</td>\n      <td>8</td>\n      <td>16</td>\n      <td>11</td>\n      <td>309</td>\n      <td>None</td>\n      <td>29107</td>\n      <td>0</td>\n      <td>423</td>\n      <td>160</td>\n      <td>137</td>\n      <td>185</td>\n      <td>50</td>\n      <td>174</td>\n      <td>0</td>\n      <td>23</td>\n      <td>0</td>\n      <td>12999.0</td>\n      <td>15728.0</td>\n      <td>701.0</td>\n      <td>314.0</td>\n      <td>142.0</td>\n      <td>-3502.0</td>\n      <td>-2925.0</td>\n      <td>NaN</td>\n      <td>362.0</td>\n      <td>1120.0</td>\n      <td>6940.0</td>\n      <td>11853.0</td>\n      <td>600.0</td>\n      <td>NaN</td>\n      <td>NaN</td>\n      <td>3566.0</td>\n      <td>NaN</td>\n      <td>42.0</td>\n      <td>1031.0</td>\n      <td>33.0</td>\n      <td>38.0</td>\n      <td>16.0</td>\n      <td>201.0</td>\n      <td>NaN</td>\n      <td>348.0</td>\n      <td>23.0</td>\n      <td>2.0</td>\n      <td>NaN</td>\n      <td>50.0</td>\n      <td>5.0</td>\n      <td>33.0</td>\n      <td>2.0</td>\n      <td>NaN</td>\n      <td>5.0</td>\n      <td>NaN</td>\n      <td>NaN</td>\n      <td>NaN</td>\n      <td>2.0</td>\n      <td>1.0</td>\n      <td>NaN</td>\n      <td>NaN</td>\n      <td>43.0</td>\n      <td>NaN</td>\n      <td>NaN</td>\n      <td>NaN</td>\n      <td>NaN</td>\n      <td>NaN</td>\n      <td>NaN</td>\n    </tr>\n  </tbody>\n</table>\n</div>"
          },
          "metadata": {}
        }
      ]
    },
    {
      "metadata": {
        "trusted": true,
        "_uuid": "069eda8bcf0e1c17a07f65a264bced1ce49b0c4e"
      },
      "cell_type": "code",
      "source": "#find my match",
      "execution_count": 37,
      "outputs": []
    },
    {
      "metadata": {
        "trusted": true,
        "_uuid": "8a3d4baad688841894ab44926bd507ec55bbaf55"
      },
      "cell_type": "code",
      "source": "",
      "execution_count": null,
      "outputs": []
    }
  ],
  "metadata": {
    "kernelspec": {
      "display_name": "Python 3",
      "language": "python",
      "name": "python3"
    },
    "language_info": {
      "name": "python",
      "version": "3.6.6",
      "mimetype": "text/x-python",
      "codemirror_mode": {
        "name": "ipython",
        "version": 3
      },
      "pygments_lexer": "ipython3",
      "nbconvert_exporter": "python",
      "file_extension": ".py"
    }
  },
  "nbformat": 4,
  "nbformat_minor": 1
}